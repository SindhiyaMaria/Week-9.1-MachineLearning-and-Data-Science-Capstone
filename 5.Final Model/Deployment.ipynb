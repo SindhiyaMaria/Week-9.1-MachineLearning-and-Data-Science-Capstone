{
 "cells": [
  {
   "cell_type": "code",
   "execution_count": 3,
   "id": "200ae5ff-fbcf-4320-b19a-c30f5163d145",
   "metadata": {},
   "outputs": [],
   "source": [
    "import pickle"
   ]
  },
  {
   "cell_type": "code",
   "execution_count": 5,
   "id": "d2698388-eea9-4b35-a900-95ee9941c619",
   "metadata": {},
   "outputs": [],
   "source": [
    "# best model\n",
    "filename = \"Decision_tree_employee_final.sav\""
   ]
  },
  {
   "cell_type": "code",
   "execution_count": null,
   "id": "b2162d93-e31e-4ac5-906a-1e1b2bb165f6",
   "metadata": {},
   "outputs": [],
   "source": [
    "# Load the saved model\n",
    "loaded_model = pickle.load(open(filename, 'rb'))"
   ]
  },
  {
   "cell_type": "markdown",
   "id": "df51be41-c548-49f9-aeab-61c27600d9f4",
   "metadata": {},
   "source": [
    "Employee Input Data"
   ]
  },
  {
   "cell_type": "code",
   "execution_count": 9,
   "id": "f1f146e0-4d39-46e1-8e62-631d3e72ce37",
   "metadata": {},
   "outputs": [
    {
     "name": "stdout",
     "output_type": "stream",
     "text": [
      "Type of loaded object: <class 'dict'>\n",
      "Contents: {'trained_model': GridSearchCV(estimator=DecisionTreeClassifier(random_state=0), n_jobs=-1,\n",
      "             param_grid={'criterion': ['gini', 'entropy'],\n",
      "                         'max_features': [None, 'sqrt', 'log2'],\n",
      "                         'splitter': ['best', 'random']},\n",
      "             scoring='f1_weighted', verbose=3), 'rfe_selector': RFE(estimator=DecisionTreeClassifier(random_state=0), n_features_to_select=5), 'selected_features': array(['Age', 'Years_At_Company', 'Performance_Score',\n",
      "       'Work_Hours_Per_Week', 'Projects_Handled'], dtype=object), 'feature_columns': ['Age', 'Years_At_Company', 'Performance_Score', 'Monthly_Salary', 'Work_Hours_Per_Week', 'Projects_Handled', 'Promotions', 'Department_Engineering', 'Department_Finance', 'Department_HR', 'Department_IT', 'Department_Legal', 'Department_Marketing', 'Department_Operations', 'Department_Sales', 'Gender_Male', 'Gender_Other', 'Job_Title_Consultant', 'Job_Title_Developer', 'Job_Title_Engineer', 'Job_Title_Manager', 'Job_Title_Specialist', 'Job_Title_Technician', 'Education_Level_High School', 'Education_Level_Master', 'Education_Level_PhD'], 'best_params': {'criterion': 'gini', 'max_features': 'sqrt', 'splitter': 'random'}, 'cv_score': 0.7895914347866809, 'model_type': 'DecisionTree_RFE'}\n"
     ]
    }
   ],
   "source": [
    "import pickle\n",
    "filename = \"Decision_tree_employee_final.sav\"\n",
    "loaded_model = pickle.load(open(filename, 'rb'))\n",
    "print(f\"Type of loaded object: {type(loaded_model)}\")\n",
    "print(f\"Contents: {loaded_model}\")\n"
   ]
  },
  {
   "cell_type": "code",
   "execution_count": 11,
   "id": "baddb80e-7cd4-439e-9b06-be172cdc4c66",
   "metadata": {},
   "outputs": [],
   "source": [
    "trained_model = loaded_model['trained_model']"
   ]
  },
  {
   "cell_type": "code",
   "execution_count": 13,
   "id": "2bf9e5c7-16c9-4d3d-87d7-ca55444dbe44",
   "metadata": {},
   "outputs": [
    {
     "name": "stdin",
     "output_type": "stream",
     "text": [
      "Age:  45\n",
      "Years at Company:  4\n",
      "Performance Score:  5.0\n",
      "Work Hours Per Week:  48\n",
      "Projects Handled:  9\n"
     ]
    }
   ],
   "source": [
    "def get_categorical_prediction(prediction):\n",
    "    return \"Yes\" if prediction == 1 else \"No\"\n",
    "# Collect employee-related inputs\n",
    "Age_input = float(input(\"Age: \"))\n",
    "Years_At_Company_input = float(input(\"Years at Company: \"))\n",
    "Performance_Score_input = float(input(\"Performance Score: \"))\n",
    "Work_Hours_Per_Week_input = float(input(\"Work Hours Per Week: \"))\n",
    "Projects_Handled_input = float(input(\"Projects Handled: \"))\n",
    "\n",
    "# Predict the employee resigning status\n",
    "future_prediction = trained_model.predict([[Age_input,Years_At_Company_input,Performance_Score_input,Work_Hours_Per_Week_input,Projects_Handled_input,]])\n",
    "\n",
    "# Convert numerical prediction to categorical label\n",
    "future_prediction_categorical = get_categorical_prediction(future_prediction[0])"
   ]
  },
  {
   "cell_type": "code",
   "execution_count": 15,
   "id": "8b358544-e086-4aba-8c9c-77f093c3c12d",
   "metadata": {},
   "outputs": [
    {
     "name": "stdout",
     "output_type": "stream",
     "text": [
      "Future Prediction (Resigned): No\n"
     ]
    }
   ],
   "source": [
    "# Convert numerical prediction to categorical label\n",
    "future_prediction_categorical = get_categorical_prediction(future_prediction[0])\n",
    "\n",
    "# Print the categorical prediction\n",
    "print(\"Future Prediction (Resigned):\", future_prediction_categorical)"
   ]
  },
  {
   "cell_type": "code",
   "execution_count": null,
   "id": "9957b689-1710-48fb-bced-2c9f127871b7",
   "metadata": {},
   "outputs": [],
   "source": []
  }
 ],
 "metadata": {
  "kernelspec": {
   "display_name": "Python (.venv)",
   "language": "python",
   "name": ".venv"
  },
  "language_info": {
   "codemirror_mode": {
    "name": "ipython",
    "version": 3
   },
   "file_extension": ".py",
   "mimetype": "text/x-python",
   "name": "python",
   "nbconvert_exporter": "python",
   "pygments_lexer": "ipython3",
   "version": "3.12.7"
  }
 },
 "nbformat": 4,
 "nbformat_minor": 5
}
