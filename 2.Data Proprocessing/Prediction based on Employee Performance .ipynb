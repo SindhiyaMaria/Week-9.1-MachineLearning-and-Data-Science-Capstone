{
 "cells": [
  {
   "cell_type": "code",
   "execution_count": null,
   "id": "9cec20cd-0210-4b23-9a1e-54520fe16b7c",
   "metadata": {},
   "outputs": [],
   "source": [
    "import pandas as pd\n"
   ]
  },
  {
   "cell_type": "code",
   "execution_count": null,
   "id": "cde220c4-1475-4b1d-8b95-a81fc8e31563",
   "metadata": {},
   "outputs": [],
   "source": [
    "dataset=pd.read_csv(\"Employee_Performance_dataset.csv\")"
   ]
  },
  {
   "cell_type": "code",
   "execution_count": null,
   "id": "89b4ac8e-c3ce-4cfb-b0ae-c3ed2e5d1a74",
   "metadata": {},
   "outputs": [],
   "source": [
    "dataset"
   ]
  },
  {
   "cell_type": "code",
   "execution_count": null,
   "id": "55e663b7-2a92-489b-9f0c-4b2f5f8b0b1c",
   "metadata": {},
   "outputs": [],
   "source": [
    "print(dataset.columns)\n"
   ]
  },
  {
   "cell_type": "code",
   "execution_count": null,
   "id": "58da5923-bfe6-41f7-ad24-e6c5f01fdc0d",
   "metadata": {},
   "outputs": [],
   "source": [
    "# Convert categorical columns to one-hot encoding\n",
    "dataset = pd.get_dummies(dataset, columns=['Gender', 'Department', 'Status', 'Location', 'Session'], drop_first=True)"
   ]
  },
  {
   "cell_type": "code",
   "execution_count": null,
   "id": "02590aec-cd46-4dc8-b8fe-b71675c59c2b",
   "metadata": {},
   "outputs": [],
   "source": [
    "dataset"
   ]
  },
  {
   "cell_type": "code",
   "execution_count": null,
   "id": "c6e2b980-8f44-41ff-a074-28b04c47db76",
   "metadata": {},
   "outputs": [],
   "source": [
    "# Convert categorical columns to one-hot encoding\n",
    "categorical_columns = ['Gender', 'Department', 'Status', 'Location', 'Session']\n",
    "dataset = pd.get_dummies(dataset, columns=categorical_columns, drop_first=True)\n",
    "\n",
    "# Check the DataFrame after encoding\n",
    "print(dataset.head())\n",
    "print(dataset.dtypes)\n"
   ]
  },
  {
   "cell_type": "code",
   "execution_count": null,
   "id": "5c7e4993-35f3-44aa-8cfc-8bb404f6cb01",
   "metadata": {},
   "outputs": [],
   "source": [
    "dataset"
   ]
  },
  {
   "cell_type": "code",
   "execution_count": null,
   "id": "79226555-1033-4cc3-b21b-9082e9daba10",
   "metadata": {},
   "outputs": [],
   "source": []
  },
  {
   "cell_type": "code",
   "execution_count": null,
   "id": "9a4360c8-cc48-45ec-a626-0c656b66e5db",
   "metadata": {},
   "outputs": [],
   "source": [
    "dataset"
   ]
  },
  {
   "cell_type": "code",
   "execution_count": null,
   "id": "7183d08b-3828-4a0f-a908-25cbb4edc0c9",
   "metadata": {},
   "outputs": [],
   "source": []
  },
  {
   "cell_type": "code",
   "execution_count": null,
   "id": "dafe21dd-41d6-4cce-8541-c11515c6c59b",
   "metadata": {},
   "outputs": [],
   "source": [
    "# Identify all columns with boolean data type\n",
    "bool_columns = dataset.select_dtypes(include='bool').columns\n",
    "# Convert boolean columns to integers (True -> 1, False -> 0)\n",
    "dataset[bool_columns] = dataset[bool_columns].astype(int)\n",
    "print(dataset.dtypes)"
   ]
  },
  {
   "cell_type": "code",
   "execution_count": null,
   "id": "66246bad-8608-47c0-8e2a-c692156b89a0",
   "metadata": {},
   "outputs": [],
   "source": [
    "dataset.info()"
   ]
  },
  {
   "cell_type": "code",
   "execution_count": null,
   "id": "2ac02695-0292-43eb-9a42-5a63cdcd1162",
   "metadata": {},
   "outputs": [],
   "source": [
    "dataset.dtypes"
   ]
  },
  {
   "cell_type": "markdown",
   "id": "91e465fc-60d0-4269-acdc-0a6bdb5c280f",
   "metadata": {},
   "source": [
    " checking  for null values in a dataset"
   ]
  },
  {
   "cell_type": "code",
   "execution_count": null,
   "id": "10a55cc0-6d7a-430c-b266-436c563f30bd",
   "metadata": {},
   "outputs": [],
   "source": [
    "dataset.isnull().sum()"
   ]
  },
  {
   "cell_type": "code",
   "execution_count": null,
   "id": "145eca1f-4e93-4175-bc0f-e5a28c1aaa28",
   "metadata": {},
   "outputs": [],
   "source": [
    "dataset.isna().sum()"
   ]
  },
  {
   "cell_type": "code",
   "execution_count": null,
   "id": "7c578778-7f9b-4f82-ae10-e4862d17ecb1",
   "metadata": {},
   "outputs": [],
   "source": [
    "dataset[\"Performance Score\"] = dataset[\"Performance Score\"].fillna(0)\n",
    "#dataset[\"Performance Score\"].fillna(0)"
   ]
  },
  {
   "cell_type": "code",
   "execution_count": null,
   "id": "e7f2da17-461d-4cf2-86cf-4e98465785d6",
   "metadata": {},
   "outputs": [],
   "source": [
    "#dataset[\"Performance Score\"]\n",
    "#dataset[\"Performance Score\"].fillna(dataset[\"Performance Score\"].median(),inplace=True)\n",
    "\n"
   ]
  },
  {
   "cell_type": "code",
   "execution_count": null,
   "id": "1289cf63-5132-4da7-a669-715f8a2e15f7",
   "metadata": {},
   "outputs": [],
   "source": [
    "dataset"
   ]
  },
  {
   "cell_type": "code",
   "execution_count": null,
   "id": "ede6e6b8-0e20-4f29-b3b9-2b429a4fc411",
   "metadata": {},
   "outputs": [],
   "source": [
    "dataset.isnull().sum()"
   ]
  },
  {
   "cell_type": "code",
   "execution_count": null,
   "id": "0c98bfb2-28c7-44b6-bae4-c858a67b4d22",
   "metadata": {},
   "outputs": [],
   "source": [
    "def quanQual(dataset):\n",
    "    quan=[]\n",
    "    qual=[]\n",
    "    for columnName in dataset.columns:\n",
    "        #print(columnName)\n",
    "        if (dataset[columnName].dtype=='object'):\n",
    "           # print(\"qual\")\n",
    "            qual.append(columnName)   \n",
    "        else:\n",
    "            #print(\"quan\")\n",
    "            quan.append(columnName)\n",
    "    return quan,qual\n",
    "\n",
    "        "
   ]
  },
  {
   "cell_type": "code",
   "execution_count": null,
   "id": "1f4e8fbc-2d38-41ab-9d62-d4560cdf5895",
   "metadata": {},
   "outputs": [],
   "source": [
    "quan,qual=quanQual(dataset)"
   ]
  },
  {
   "cell_type": "code",
   "execution_count": null,
   "id": "7a4e4b5a-4f9d-42be-98b7-6167f104cd96",
   "metadata": {},
   "outputs": [],
   "source": [
    "qual"
   ]
  },
  {
   "cell_type": "code",
   "execution_count": null,
   "id": "2ce43243-ede1-4be7-ab57-aa0766e35ac2",
   "metadata": {},
   "outputs": [],
   "source": [
    "quan"
   ]
  },
  {
   "cell_type": "code",
   "execution_count": null,
   "id": "c07fa9d7-1a00-4e17-9578-5f07abe864fc",
   "metadata": {},
   "outputs": [],
   "source": [
    "def freqTable(ColumnName,dataset):\n",
    "        freqTable=pd.DataFrame(columns=[\"Unique_Values\",\"Frequency\",\"Relative Frequency\",\"Cusum\"])\n",
    "        freqTable[\"Unique_Values\"]=dataset[ColumnName].value_counts().index\n",
    "        freqTable[\"Frequency\"]=dataset[ColumnName].value_counts().values\n",
    "        freqTable[\"Relative Frequency\"]=(freqTable[\"Frequency\"]/103)\n",
    "        freqTable[\"Cusum\"]=freqTable[\"Relative Frequency\"].cumsum()\n",
    "        return freqTable\n"
   ]
  },
  {
   "cell_type": "code",
   "execution_count": null,
   "id": "7649e1f9-cbe4-4ab9-b416-dd62cfe7704c",
   "metadata": {},
   "outputs": [],
   "source": [
    "freqTable(\"Salary\",dataset)"
   ]
  },
  {
   "cell_type": "code",
   "execution_count": null,
   "id": "73835179-d3d2-4be6-928e-50079253d644",
   "metadata": {},
   "outputs": [],
   "source": [
    "freqTable(\"Experience\",dataset)"
   ]
  },
  {
   "cell_type": "code",
   "execution_count": null,
   "id": "2a1748a8-583a-48e4-8b52-8b556c8a37a4",
   "metadata": {},
   "outputs": [],
   "source": [
    "import numpy as np"
   ]
  },
  {
   "cell_type": "code",
   "execution_count": null,
   "id": "635337bf-3843-4a05-b700-e035369898d0",
   "metadata": {},
   "outputs": [],
   "source": [
    "descriptive=pd.DataFrame(index=[\"Mean\",\"Median\",\"Mode\",\"Q1:25%\",\"Q2:50%\",\"Q3:75%\",\"Q5:99%\",\"Q4:100%\",\"IQR\",\"1.5Rule\",\"Lesser\",\"Greater\",\"Max\",\"Min\",\"kurtosis\",\"skew\",\"Var\",\"Std\"],columns=quan)\n",
    "for ColumnName in quan:\n",
    "    descriptive.loc[\"Mean\",ColumnName]=dataset[ColumnName].mean()\n",
    "    descriptive.loc[\"Median\",ColumnName]=dataset[ColumnName].median()\n",
    "    descriptive.loc[\"Mode\",ColumnName]=dataset[ColumnName].mode()[0]\n",
    "    descriptive.loc[\"Q1:25%\",ColumnName]=dataset[ColumnName].quantile(0.25)\n",
    "    descriptive.loc[\"Q2:50%\",ColumnName]=dataset[ColumnName].quantile(0.50)\n",
    "    descriptive.loc[\"Q3:75%\",ColumnName]=dataset[ColumnName].quantile(0.75)\n",
    "    descriptive.loc[\"Q5:99%\",ColumnName]=dataset[ColumnName].quantile(0.99)\n",
    "    descriptive.loc[\"Q4:100%\",ColumnName]=dataset[ColumnName].max()\n",
    "    descriptive.loc[\"IQR\",ColumnName]=descriptive.loc[\"Q3:75%\",ColumnName]-descriptive.loc[\"Q1:25%\",ColumnName]\n",
    "    descriptive.loc[\"1.5Rule\",ColumnName]=1.5*descriptive.loc[\"IQR\",ColumnName]\n",
    "    descriptive.loc[\"IQR\",ColumnName]=descriptive.loc[\"Q3:75%\",ColumnName]-descriptive.loc[\"Q1:25%\",ColumnName]\n",
    "    descriptive.loc[\"1.5Rule\",ColumnName]=1.5*descriptive.loc[\"IQR\",ColumnName]\n",
    "    descriptive.loc[\"Lesser\",ColumnName]=descriptive.loc[\"Q1:25%\",ColumnName]-descriptive.loc[\"1.5Rule\",ColumnName]\n",
    "    descriptive.loc[\"Greater\",ColumnName]=descriptive.loc[\"Q3:75%\",ColumnName]+descriptive.loc[\"1.5Rule\",ColumnName]\n",
    "    descriptive.loc[\"Max\",ColumnName]=dataset[ColumnName].max()\n",
    "    descriptive.loc[\"Min\",ColumnName]=dataset[ColumnName].min()\n",
    "    descriptive.loc[\"kurtosis\",ColumnName]=dataset[ColumnName].kurtosis()\n",
    "    descriptive.loc[\"skew\",ColumnName]=dataset[ColumnName].skew()\n",
    "    descriptive.loc[\"Var\",ColumnName]=dataset[ColumnName].var()\n",
    "    descriptive.loc[\"Std\",ColumnName]=dataset[ColumnName].std()"
   ]
  },
  {
   "cell_type": "code",
   "execution_count": null,
   "id": "ce1585dc-807c-4036-9ec0-339ffd275b3c",
   "metadata": {},
   "outputs": [],
   "source": [
    "descriptive"
   ]
  },
  {
   "cell_type": "code",
   "execution_count": null,
   "id": "bd8860e8-e7a9-4007-918b-6b7113d03b04",
   "metadata": {},
   "outputs": [],
   "source": [
    "descriptive[\"Performance Score\"][\"Lesser\"]>descriptive[\"Performance Score\"][\"Min\"]"
   ]
  },
  {
   "cell_type": "code",
   "execution_count": null,
   "id": "d650c9f1-2379-410d-81df-8e17092f3404",
   "metadata": {},
   "outputs": [],
   "source": [
    "descriptive[\"Salary\"][\"Min\"]<descriptive[\"Salary\"][\"Lesser\"]"
   ]
  },
  {
   "cell_type": "code",
   "execution_count": null,
   "id": "c024d30c-ed21-4fca-b803-aa96c1835433",
   "metadata": {},
   "outputs": [],
   "source": [
    "Lesser=[]\n",
    "greater=[]\n",
    "for ColumnName in quan:\n",
    "    if(descriptive[ColumnName][\"Min\"]<descriptive[ColumnName][\"Lesser\"]):\n",
    "        Lesser.append(ColumnName)\n",
    "    if(descriptive[ColumnName][\"Max\"]>descriptive[ColumnName][\"Greater\"]):\n",
    "        greater.append(ColumnName)"
   ]
  },
  {
   "cell_type": "code",
   "execution_count": null,
   "id": "91ad86df-2039-4c82-90a0-15dadfbe1ebc",
   "metadata": {},
   "outputs": [],
   "source": [
    "Lesser"
   ]
  },
  {
   "cell_type": "code",
   "execution_count": null,
   "id": "47208a07-fcee-498d-93af-de34a47c3388",
   "metadata": {},
   "outputs": [],
   "source": [
    "greater"
   ]
  },
  {
   "cell_type": "markdown",
   "id": "4c599efd-c467-44d7-8cc7-2807d81dfc24",
   "metadata": {},
   "source": [
    "Finding outliers in the given dataset and replacing them "
   ]
  },
  {
   "cell_type": "code",
   "execution_count": null,
   "id": "1e887417-5b6b-4fc8-a2bd-b39091240416",
   "metadata": {},
   "outputs": [],
   "source": [
    "for ColumnName in Lesser:\n",
    "    dataset[ColumnName][dataset[ColumnName]<descriptive[ColumnName][\"Lesser\"]]=descriptive[ColumnName][\"Lesser\"]\n",
    "for ColumnName in greater:\n",
    "    dataset[ColumnName][dataset[ColumnName]>descriptive[ColumnName][\"Greater\"]]=descriptive[ColumnName][\"Greater\"]\n"
   ]
  },
  {
   "cell_type": "code",
   "execution_count": null,
   "id": "764a1c33-7247-4e66-81d1-979c5afc4cb5",
   "metadata": {},
   "outputs": [],
   "source": [
    "descriptive=pd.DataFrame(index=[\"Mean\",\"Median\",\"Mode\",\"Q1:25%\",\"Q2:50%\",\"Q3:75%\",\"Q5:99%\",\"Q4:100%\",\"IQR\",\"1.5Rule\",\"Lesser\",\"Greater\",\"Max\",\"Min\",\"kurtosis\",\"skew\",\"Var\",\"Std\"],columns=quan)\n",
    "for ColumnName in quan:\n",
    "    descriptive.loc[\"Mean\",ColumnName]=dataset[ColumnName].mean()\n",
    "    descriptive.loc[\"Median\",ColumnName]=dataset[ColumnName].median()\n",
    "    descriptive.loc[\"Mode\",ColumnName]=dataset[ColumnName].mode()[0]\n",
    "    descriptive.loc[\"Q1:25%\",ColumnName]=dataset[ColumnName].quantile(0.25)\n",
    "    descriptive.loc[\"Q2:50%\",ColumnName]=dataset[ColumnName].quantile(0.50)\n",
    "    descriptive.loc[\"Q3:75%\",ColumnName]=dataset[ColumnName].quantile(0.75)\n",
    "    descriptive.loc[\"Q5:99%\",ColumnName]=dataset[ColumnName].quantile(0.99)\n",
    "    descriptive.loc[\"Q4:100%\",ColumnName]=dataset[ColumnName].max()\n",
    "    descriptive.loc[\"IQR\",ColumnName]=descriptive.loc[\"Q3:75%\",ColumnName]-descriptive.loc[\"Q1:25%\",ColumnName]\n",
    "    descriptive.loc[\"1.5Rule\",ColumnName]=1.5*descriptive.loc[\"IQR\",ColumnName]\n",
    "    descriptive.loc[\"IQR\",ColumnName]=descriptive.loc[\"Q3:75%\",ColumnName]-descriptive.loc[\"Q1:25%\",ColumnName]\n",
    "    descriptive.loc[\"1.5Rule\",ColumnName]=1.5*descriptive.loc[\"IQR\",ColumnName]\n",
    "    descriptive.loc[\"Lesser\",ColumnName]=descriptive.loc[\"Q1:25%\",ColumnName]-descriptive.loc[\"1.5Rule\",ColumnName]\n",
    "    descriptive.loc[\"Greater\",ColumnName]=descriptive.loc[\"Q3:75%\",ColumnName]+descriptive.loc[\"1.5Rule\",ColumnName]\n",
    "    descriptive.loc[\"Max\",ColumnName]=dataset[ColumnName].max()\n",
    "    descriptive.loc[\"Min\",ColumnName]=dataset[ColumnName].min()\n",
    "    descriptive.loc[\"kurtosis\",ColumnName]=dataset[ColumnName].kurtosis()\n",
    "    descriptive.loc[\"skew\",ColumnName]=dataset[ColumnName].skew()\n",
    "    descriptive.loc[\"Var\",ColumnName]=dataset[ColumnName].var()\n",
    "    descriptive.loc[\"Std\",ColumnName]=dataset[ColumnName].std()\n",
    "    "
   ]
  },
  {
   "cell_type": "code",
   "execution_count": null,
   "id": "3187cee2-0223-4c6d-a9f3-1f357a15d67b",
   "metadata": {},
   "outputs": [],
   "source": [
    "descriptive"
   ]
  },
  {
   "cell_type": "markdown",
   "id": "911512c5-caa1-4121-be14-0cc28efab849",
   "metadata": {},
   "source": [
    "Checking wether outlier has been replaced correctly"
   ]
  },
  {
   "cell_type": "code",
   "execution_count": null,
   "id": "d04a6569-2706-4f61-85b4-2e5ab174704e",
   "metadata": {},
   "outputs": [],
   "source": [
    "Lesser=[]\n",
    "greater=[]\n",
    "for ColumnName in quan:\n",
    "    if(descriptive[ColumnName][\"Min\"]<descriptive[ColumnName][\"Lesser\"]):\n",
    "        Lesser.append(ColumnName)\n",
    "    if(descriptive[ColumnName][\"Max\"]>descriptive[ColumnName][\"Greater\"]):\n",
    "        greater.append(ColumnName)"
   ]
  },
  {
   "cell_type": "code",
   "execution_count": null,
   "id": "0f5b1fc7-5009-4065-a0ab-7f8de5dfb30e",
   "metadata": {},
   "outputs": [],
   "source": [
    "Lesser"
   ]
  },
  {
   "cell_type": "code",
   "execution_count": null,
   "id": "7eecb24e-8c7a-4780-b3c7-0c375565b16c",
   "metadata": {},
   "outputs": [],
   "source": [
    "greater"
   ]
  },
  {
   "cell_type": "code",
   "execution_count": null,
   "id": "9bb606cf-2881-44e0-949c-85703c06e464",
   "metadata": {},
   "outputs": [],
   "source": [
    "def Univariate(dataset,quan):\n",
    "    descriptive=pd.DataFrame(index=[\"Mean\",\"Median\",\"Mode\",\"Q1:25%\",\"Q2:50%\",\"Q3:75%\",\"Q5:99%\",\"Q4:100%\",\"IQR\",\"1.5Rule\",\"Lesser\",\"Greater\",\"max\",\"min\",\"kurtosis\",\"skew\",\"Var\",\"Std\"],columns=quan)\n",
    "    for ColumnName in quan:\n",
    "        descriptive.loc[\"Mean\",ColumnName]=dataset[ColumnName].mean()\n",
    "        descriptive.loc[\"Median\",ColumnName]=dataset[ColumnName].median()\n",
    "        descriptive.loc[\"Mode\",ColumnName]=dataset[ColumnName].mode()[0]\n",
    "        descriptive.loc[\"Q1:25%\",ColumnName]=dataset[ColumnName].quantile(0.25)\n",
    "        descriptive.loc[\"Q2:50%\",ColumnName]=dataset[ColumnName].quantile(0.50)\n",
    "        descriptive.loc[\"Q3:75%\",ColumnName]=dataset[ColumnName].quantile(0.75)\n",
    "        descriptive.loc[\"Q5:99%\",ColumnName]=dataset[ColumnName].quantile(0.99)\n",
    "        descriptive.loc[\"Q4:100%\",ColumnName]=dataset[ColumnName].max()\n",
    "        descriptive.loc[\"IQR\",ColumnName]=descriptive.loc[\"Q3:75%\",ColumnName]-descriptive.loc[\"Q1:25%\",ColumnName]\n",
    "        descriptive.loc[\"1.5Rule\",ColumnName]=1.5*descriptive.loc[\"IQR\",ColumnName]\n",
    "        descriptive.loc[\"IQR\",ColumnName]=descriptive.loc[\"Q3:75%\",ColumnName]-descriptive.loc[\"Q1:25%\",ColumnName]\n",
    "        descriptive.loc[\"1.5Rule\",ColumnName]=1.5*descriptive.loc[\"IQR\",ColumnName]\n",
    "        descriptive.loc[\"Lesser\",ColumnName]=descriptive.loc[\"Q1:25%\",ColumnName]-descriptive.loc[\"1.5Rule\",ColumnName]\n",
    "        descriptive.loc[\"Greater\",ColumnName]=descriptive.loc[\"Q3:75%\",ColumnName]+descriptive.loc[\"1.5Rule\",ColumnName]\n",
    "        descriptive.loc[\"max\",ColumnName]=dataset[ColumnName].max()\n",
    "        descriptive.loc[\"min\",ColumnName]=dataset[ColumnName].min()\n",
    "        descriptive.loc[\"skew\",ColumnName]=dataset[ColumnName].skew()\n",
    "        descriptive.loc[\"Var\",ColumnName]=dataset[ColumnName].var()\n",
    "        descriptive.loc[\"Std\",ColumnName]=dataset[ColumnName].std()\n",
    "        descriptive.loc[\"kurtosis\",ColumnName]=dataset[ColumnName].kurtosis()\n",
    "        \n",
    "    return descriptive\n",
    "    "
   ]
  },
  {
   "cell_type": "code",
   "execution_count": null,
   "id": "a8e8ea34-1e06-414a-b962-c18b466c3573",
   "metadata": {},
   "outputs": [],
   "source": [
    "descriptive"
   ]
  },
  {
   "cell_type": "code",
   "execution_count": null,
   "id": "5e7a767c-ac57-4c49-9154-108430f21395",
   "metadata": {},
   "outputs": [],
   "source": [
    "Univariate(dataset,quan)"
   ]
  },
  {
   "cell_type": "code",
   "execution_count": null,
   "id": "bdf171de-c885-4f94-8d59-5bcfb7d900a3",
   "metadata": {
    "scrolled": true
   },
   "outputs": [],
   "source": [
    "descriptive"
   ]
  },
  {
   "cell_type": "markdown",
   "id": "3f389d04-8b80-433d-af37-e97361c85533",
   "metadata": {},
   "source": [
    " # Univariate Analysis"
   ]
  },
  {
   "cell_type": "code",
   "execution_count": null,
   "id": "a837382c-716f-4648-b04f-139fa092a8af",
   "metadata": {},
   "outputs": [],
   "source": [
    "import matplotlib.pyplot as plt\n",
    "import seaborn as sns\n",
    "\n",
    "# 1. Age distribution\n",
    "plt.figure(figsize=(8, 6))\n",
    "sns.histplot(dataset['Age'], kde=True, bins=20, color='blue')\n",
    "plt.title('Age Distribution')\n",
    "plt.xlabel('Age')\n",
    "plt.ylabel('Frequency')\n",
    "plt.grid(True)\n",
    "plt.show()\n",
    "\n",
    "# 2. Department frequency\n",
    "plt.figure(figsize=(8, 6))\n",
    "sns.countplot(x='Department', data=dataset, palette='viridis')\n",
    "plt.title('Department Frequency')\n",
    "plt.xlabel('Department')\n",
    "plt.ylabel('Count')\n",
    "plt.xticks(rotation=45)\n",
    "plt.show()\n",
    "\n",
    "# 3. Salary distribution\n",
    "plt.figure(figsize=(8, 6))\n",
    "sns.boxplot(x=dataset['Salary'], color='orange')\n",
    "plt.title('Salary Distribution')\n",
    "plt.xlabel('Salary')\n",
    "plt.show()\n",
    "\n",
    "# 4. Gender frequency\n",
    "plt.figure(figsize=(8, 6))\n",
    "sns.countplot(x='Gender', data=dataset, palette='pastel')\n",
    "plt.title('Gender Distribution')\n",
    "plt.xlabel('Gender')\n",
    "plt.ylabel('Count')\n",
    "plt.show()\n",
    "\n",
    "# 5. Performance score count\n",
    "plt.figure(figsize=(8, 6))\n",
    "sns.countplot(x='Performance Score', data=dataset, palette='muted')\n",
    "plt.title('Performance Score Distribution')\n",
    "plt.xlabel('Performance Score')\n",
    "plt.ylabel('Count')\n",
    "plt.show()\n"
   ]
  },
  {
   "cell_type": "code",
   "execution_count": null,
   "id": "2b3b6388-4b07-4e51-b7dd-85ca0b1e4b5b",
   "metadata": {},
   "outputs": [],
   "source": []
  },
  {
   "cell_type": "code",
   "execution_count": null,
   "id": "b13d903b-3fbb-4206-ab8c-576c6cd9eb98",
   "metadata": {},
   "outputs": [],
   "source": []
  },
  {
   "cell_type": "code",
   "execution_count": null,
   "id": "9b72be20-a035-430b-b511-cbdc06acb665",
   "metadata": {},
   "outputs": [],
   "source": []
  },
  {
   "cell_type": "code",
   "execution_count": null,
   "id": "0312b430-7ebd-4ab5-8c77-627c8090ef61",
   "metadata": {},
   "outputs": [],
   "source": []
  },
  {
   "cell_type": "markdown",
   "id": "4561e851-d4f2-482b-a403-c029bad33f98",
   "metadata": {},
   "source": [
    "Univariate Analysis"
   ]
  },
  {
   "cell_type": "markdown",
   "id": "abb46bad-ca5c-4fa2-a277-f2084b6392e6",
   "metadata": {},
   "source": [
    "1.What is the distribution of employee ages?"
   ]
  },
  {
   "cell_type": "code",
   "execution_count": null,
   "id": "e22d8108-8a92-4d23-89f9-13bd805455c8",
   "metadata": {},
   "outputs": [],
   "source": [
    "plt.figure(figsize=(8, 6))\n",
    "sns.histplot(dataset['Age'], kde=True, bins=15, color='skyblue')\n",
    "plt.title('Age Distribution')\n",
    "plt.xlabel('Age')\n",
    "plt.ylabel('Frequency')\n",
    "plt.grid(True)\n",
    "plt.show()\n"
   ]
  },
  {
   "cell_type": "markdown",
   "id": "04840169-bb25-4858-bc5d-99514375270e",
   "metadata": {},
   "source": [
    "2.How is the gender distributed?\n",
    "\n",
    "\n"
   ]
  },
  {
   "cell_type": "code",
   "execution_count": null,
   "id": "a11188ef-d06c-4367-9084-a46f07945058",
   "metadata": {},
   "outputs": [],
   "source": [
    "import matplotlib.pyplot as plt\n",
    "import seaborn as sns\n",
    "\n",
    "# Pie chart for Gender distribution\n",
    "plt.figure(figsize=(6, 6))\n",
    "colors = ['gold', 'skyblue', 'lightgreen']  # Custom colors for the chart\n",
    "dataset['Gender'].value_counts().plot(\n",
    "    kind='pie', \n",
    "    autopct='%1.1f%%', \n",
    "    colors=colors, \n",
    "    startangle=90,  # Starts the first slice at the top\n",
    "    explode=(0.05, 0.05, 0.05)  # Slightly \"explode\" each slice for better visibility\n",
    ")\n",
    "plt.title('Gender Distribution')\n",
    "plt.ylabel('')  # Removes default ylabel\n",
    "plt.tight_layout()  # Ensures everything fits within the figure\n",
    "plt.show()\n"
   ]
  },
  {
   "cell_type": "code",
   "execution_count": null,
   "id": "78de50a2-9032-48cb-8363-c7d2fb0e3cb8",
   "metadata": {},
   "outputs": [],
   "source": [
    "plt.figure(figsize=(6, 6))\n",
    "dataset['Gender'].value_counts().plot(kind='pie', autopct='%1.1f%%', colors=['gold', 'skyblue', 'lightgreen'])\n",
    "plt.title('Gender Distribution')\n",
    "plt.ylabel('')\n",
    "plt.show()\n"
   ]
  },
  {
   "cell_type": "markdown",
   "id": "6dcf6d47-d15a-4013-b317-fe1310d38696",
   "metadata": {},
   "source": [
    "3.What is the distribution of salaries?"
   ]
  },
  {
   "cell_type": "code",
   "execution_count": null,
   "id": "a9f05b50-283c-48bc-83be-c9c2d477217f",
   "metadata": {},
   "outputs": [],
   "source": [
    "plt.figure(figsize=(8, 6))\n",
    "sns.boxplot(x=dataset['Salary'], color='lightblue')\n",
    "plt.title('Salary Distribution')\n",
    "plt.xlabel('Salary')\n",
    "plt.grid(True)\n",
    "plt.show()\n"
   ]
  },
  {
   "cell_type": "markdown",
   "id": "6c4a3493-067d-46ff-a2da-45a60712a07e",
   "metadata": {},
   "source": [
    "4.What is the frequency of employees in different departments?"
   ]
  },
  {
   "cell_type": "code",
   "execution_count": null,
   "id": "3c37e616-74af-4d9a-9e43-3d724164dc3f",
   "metadata": {},
   "outputs": [],
   "source": [
    "plt.figure(figsize=(8, 6))\n",
    "sns.countplot(y='Department', data=dataset, palette='viridis',hue='Status')\n",
    "plt.title('Employee Count by Department')\n",
    "plt.xlabel('Department')\n",
    "plt.ylabel('Count')\n",
    "plt.show()\n",
    "\n",
    "# sns.countplot(y='Department', data=dataset, palette='viridis', hue='Status')\n",
    "# plt.title('Count of Employees in Each Department by Status')\n",
    "# plt.xlabel('Count')\n",
    "# plt.ylabel('Department')\n",
    "# plt.show()\n",
    "\n"
   ]
  },
  {
   "cell_type": "markdown",
   "id": "129fa331-be32-4a10-9e54-4fcf56aeb3d6",
   "metadata": {},
   "source": [
    "5.What is the distribution of employee performance scores?"
   ]
  },
  {
   "cell_type": "code",
   "execution_count": null,
   "id": "7c782a4d-fb6f-4ff6-8ff3-0811de2a3e1f",
   "metadata": {},
   "outputs": [],
   "source": [
    "plt.figure(figsize=(8, 6))\n",
    "sns.histplot(dataset['Performance Score'], kde=True, bins=10, color='purple')\n",
    "plt.title('Performance Score Distribution')\n",
    "plt.xlabel('Performance Score')\n",
    "plt.ylabel('Frequency')\n",
    "plt.grid(True)\n",
    "plt.show()\n"
   ]
  },
  {
   "cell_type": "markdown",
   "id": "8cec3875-1b9e-4b81-8e0b-2a83782eff53",
   "metadata": {},
   "source": [
    "6.How many employees are active vs inactive?"
   ]
  },
  {
   "cell_type": "code",
   "execution_count": null,
   "id": "fe8b0110-96fa-4668-8374-bee4e409c836",
   "metadata": {},
   "outputs": [],
   "source": [
    "plt.figure(figsize=(6, 6))\n",
    "dataset['Status'].value_counts().plot(kind='bar', color='pink')\n",
    "plt.title('Active vs Inactive Employees')\n",
    "plt.xlabel('Status')\n",
    "plt.ylabel('Count')\n",
    "plt.show()\n"
   ]
  },
  {
   "cell_type": "markdown",
   "id": "445c2192-46d2-4303-81bf-79f829070d4d",
   "metadata": {},
   "source": [
    "7.What is the distribution of joining dates?"
   ]
  },
  {
   "cell_type": "code",
   "execution_count": null,
   "id": "a45f1867-454e-4d07-bccf-0161f773f038",
   "metadata": {},
   "outputs": [],
   "source": [
    "import pandas as pd\n",
    "\n",
    "# Convert the 'Joining Date' column to datetime with the correct format\n",
    "dataset['Joining Date'] = pd.to_datetime(dataset['Joining Date'], format=\"%d-%m-%Y\", errors=\"coerce\")\n",
    "\n",
    "# If you want to infer the format automatically, use this:\n",
    "# dataset['Joining Date'] = pd.to_datetime(dataset['Joining Date'], dayfirst=True, errors='coerce')\n",
    "\n",
    "# Extract the year from the Joining Date\n",
    "dataset['Joining Year'] = dataset['Joining Date'].dt.year\n",
    "\n",
    "# Display the first few rows to confirm\n",
    "print(dataset[['Joining Date', 'Joining Year']].head())\n"
   ]
  },
  {
   "cell_type": "code",
   "execution_count": null,
   "id": "44e2d039-513f-4b37-a368-5bc2b640a4c3",
   "metadata": {},
   "outputs": [],
   "source": [
    "dataset['Joining Date'] = pd.to_datetime(dataset['Joining Date'])\n",
    "plt.figure(figsize=(10, 6))\n",
    "sns.histplot(dataset['Joining Date'].dt.year, kde=False, bins=15, color='orange')\n",
    "plt.title('Joining Year Distribution')\n",
    "plt.xlabel('Year')\n",
    "plt.ylabel('Count')\n",
    "plt.show()\n"
   ]
  },
  {
   "cell_type": "code",
   "execution_count": null,
   "id": "bb0269fe-659a-4c7e-aebe-dd3bea3b70a7",
   "metadata": {},
   "outputs": [],
   "source": []
  },
  {
   "cell_type": "markdown",
   "id": "e11cc3c6-b84a-4b2d-8528-1baa22a158f0",
   "metadata": {},
   "source": [
    "8.What is the distribution of employee experience?"
   ]
  },
  {
   "cell_type": "code",
   "execution_count": null,
   "id": "defba547-a7d9-47d0-92fc-93b254e31ae9",
   "metadata": {},
   "outputs": [],
   "source": [
    "plt.figure(figsize=(8, 6))\n",
    "sns.histplot(dataset['Experience'], kde=True, bins=12, color='green')\n",
    "plt.title('Experience Distribution')\n",
    "plt.xlabel('Years of Experience')\n",
    "plt.ylabel('Frequency')\n",
    "plt.grid(True)\n",
    "plt.show()\n"
   ]
  },
  {
   "cell_type": "markdown",
   "id": "224665a1-85dd-43c8-be88-3a6166468d5b",
   "metadata": {},
   "source": [
    "9.How is the session distribution?"
   ]
  },
  {
   "cell_type": "code",
   "execution_count": null,
   "id": "65de1d9c-aa6d-45d6-b872-c1e06b248651",
   "metadata": {},
   "outputs": [],
   "source": [
    "plt.figure(figsize=(8, 6))\n",
    "sns.countplot(x='Session', data=dataset, palette='coolwarm',hue= 'Status')\n",
    "plt.title('Session Distribution')\n",
    "plt.xlabel('Session')\n",
    "plt.ylabel('Count')\n",
    "plt.show()\n"
   ]
  },
  {
   "cell_type": "markdown",
   "id": "e8d922d5-75d1-41ca-bb93-0562225d693d",
   "metadata": {},
   "source": [
    "10.What is the location-wise distribution of employees?\n"
   ]
  },
  {
   "cell_type": "code",
   "execution_count": null,
   "id": "6ac325d5-51ce-4dec-9e84-914e5bcc4b28",
   "metadata": {},
   "outputs": [],
   "source": [
    "plt.figure(figsize=(8, 6))\n",
    "sns.countplot(y='Location', data=dataset, palette='cubehelix',hue='Status')\n",
    "plt.title('Location-wise Employee Distribution')\n",
    "plt.xlabel('Count')\n",
    "plt.ylabel('Location')\n",
    "plt.show()\n"
   ]
  },
  {
   "cell_type": "code",
   "execution_count": null,
   "id": "a012acd1-5872-44e0-bd11-dbd62c4c21b2",
   "metadata": {},
   "outputs": [],
   "source": []
  },
  {
   "cell_type": "markdown",
   "id": "23ed23d8-6fe3-4b3a-b9ee-a0fd4f493b24",
   "metadata": {},
   "source": [
    "Bivariate Analysis"
   ]
  },
  {
   "cell_type": "markdown",
   "id": "70038d1d-a092-4d2c-bb55-248a7f25baf9",
   "metadata": {},
   "source": [
    "1.What is the distribution of employee performance across the dataset?"
   ]
  },
  {
   "cell_type": "code",
   "execution_count": null,
   "id": "ea0f5253-d8be-460c-b9b8-430dc9eccb96",
   "metadata": {},
   "outputs": [],
   "source": [
    "import matplotlib.pyplot as plt\n",
    "import seaborn as sns\n",
    "\n",
    "# Assuming your dataset is named 'dataset' and the column for Salary\n",
    "plt.figure(figsize=(10, 6))\n",
    "sns.histplot(dataset['Performance Score'], bins=20, kde=True, color='skyblue')\n",
    "plt.title('Distribution of Employees performance')\n",
    "plt.xlabel('Performance Score')\n",
    "plt.ylabel('Frequency')\n",
    "plt.grid(True)\n",
    "plt.show()"
   ]
  },
  {
   "cell_type": "code",
   "execution_count": null,
   "id": "752ba3af-0d81-4be0-bfa5-38850a203c9f",
   "metadata": {},
   "outputs": [],
   "source": [
    "print(dataset.head())\n"
   ]
  },
  {
   "cell_type": "markdown",
   "id": "97230d29-8c6d-440c-a9e9-86c65c617f5d",
   "metadata": {},
   "source": [
    "## 2 )What kind of relation between Salary and Experience ?"
   ]
  },
  {
   "cell_type": "code",
   "execution_count": null,
   "id": "f5a69114-7294-40ab-b8df-48f90e0be9d0",
   "metadata": {},
   "outputs": [],
   "source": [
    "\n",
    "import seaborn as sns\n",
    "import matplotlib.pyplot as plt\n",
    "\n",
    "# Calculate the Pearson correlation coefficient between salary and mba_p\n",
    "correlation = dataset['Salary'].corr(dataset['Experience'])\n",
    "print(f'Correlation between Salary and Performance Score: {correlation:}')\n",
    "\n",
    "# Scatter plot with regression line\n",
    "plt.figure(figsize=(10, 6))\n",
    "sns.scatterplot(data=dataset, x='Experience', y='Salary')\n",
    "sns.regplot(data=dataset, x='Experience', y='Salary', scatter=False, color='red')\n",
    "plt.title('Relationship between Experience and Salary')\n",
    "plt.xlabel('Experience')\n",
    "plt.ylabel('Salary')\n",
    "plt.grid(True)\n",
    "plt.show()\n",
    "\n",
    "\n",
    "correlation = dataset['Salary'].corr(dataset['Experience'])"
   ]
  },
  {
   "cell_type": "code",
   "execution_count": null,
   "id": "0ec7d428-d4dd-4523-bb35-930418e7dd5e",
   "metadata": {},
   "outputs": [],
   "source": [
    "dataset"
   ]
  },
  {
   "cell_type": "markdown",
   "id": "676a0d27-3789-4cb4-9a0a-9da723a70056",
   "metadata": {},
   "source": [
    "#### 3) Which specialization is getting minimum salary? "
   ]
  },
  {
   "cell_type": "code",
   "execution_count": null,
   "id": "b53996cc-6335-4d01-8e0b-970145aced2c",
   "metadata": {},
   "outputs": [],
   "source": [
    "# Group by 'department' and calculate the minimum salary for each group\n",
    "min_salary_by_department = dataset.groupby('Department')['Salary'].min()\n",
    "\n",
    "# Print the result\n",
    "print(min_salary_by_department)\n",
    "\n",
    "# Find the specialization with the overall minimum salary\n",
    "min_department = min_salary_by_department.idxmin()\n",
    "min_salary = min_salary_by_department.min()\n",
    "\n",
    "print(f\"The  department with the minimum salary is: {min_department}\")\n",
    "print(f\"The minimum salary is: {min_salary}\")"
   ]
  },
  {
   "cell_type": "markdown",
   "id": "1f3cec70-82ca-46e8-a742-cd4f200b4bd2",
   "metadata": {},
   "source": [
    "4.What is the distribution of Employee status?\n"
   ]
  },
  {
   "cell_type": "code",
   "execution_count": null,
   "id": "11c1e956-17c9-4c52-a0f3-6e2ffefcc7b4",
   "metadata": {},
   "outputs": [],
   "source": [
    "# Assuming 'Status' is the column name in your dataset\n",
    "status_distribution = dataset['Status'].value_counts()\n",
    "\n",
    "print(\"Distribution of Employee status:\")\n",
    "print(status_distribution)"
   ]
  },
  {
   "cell_type": "markdown",
   "id": "690e5a7d-2866-4d91-8347-933b29f2b4d6",
   "metadata": {},
   "source": [
    " 5. How many of them getting salary > 9000?"
   ]
  },
  {
   "cell_type": "code",
   "execution_count": null,
   "id": "98591ce6-9b67-417e-83c6-c1e7f306a422",
   "metadata": {},
   "outputs": [],
   "source": [
    "# Filter the dataset for salaries above 500,000 and get the count directly\n",
    "num_high_salary = dataset[dataset['Salary'] > 9000].shape[0]\n",
    "\n",
    "print(f\"Number of individuals with salary above 9000: {num_high_salary}\")"
   ]
  },
  {
   "cell_type": "markdown",
   "id": "2de0e641-cf03-456d-9ed9-df8909d2d7b4",
   "metadata": {},
   "source": [
    "6.What is the probability density fucntion of salary between 7000 to 9000?"
   ]
  },
  {
   "cell_type": "code",
   "execution_count": null,
   "id": "0e611c06-aef5-4451-987a-da6fc7531269",
   "metadata": {},
   "outputs": [],
   "source": [
    "import pandas as pd\n",
    "import numpy as np\n",
    "import seaborn as sns\n",
    "import matplotlib.pyplot as plt\n",
    "from scipy.stats import norm\n",
    "\n",
    "# Extract the salary column\n",
    "salary = dataset['Salary']\n",
    "\n",
    "# Plot the Probability Density Function (PDF) of the salary column\n",
    "plt.figure(figsize=(10, 6))\n",
    "sns.kdeplot(salary, fill=True)\n",
    "plt.xlabel('Salary')\n",
    "plt.ylabel('Probability Density')\n",
    "plt.title('Probability Density Function of Salary')\n",
    "plt.grid(True)\n",
    "plt.show()\n",
    "\n",
    "# Fit a normal distribution to the salary data\n",
    "mean_salary = salary.mean()\n",
    "std_salary = salary.std()\n",
    "\n",
    "# Define the range for plotting the PDF\n",
    "x = np.linspace(6000, 9000, 100)\n",
    "pdf = norm.pdf(x, mean_salary, std_salary)\n",
    "\n",
    "# Plot the probability density for the range\n",
    "plt.figure(figsize=(10, 6))\n",
    "plt.plot(x, pdf, label='PDF of Salary')\n",
    "plt.fill_between(x, pdf, where=(x >= 6000) & (x <= 9000), color='red', alpha=0.5, label='Range 6000 to 9000')\n",
    "plt.xlabel('Salary')\n",
    "plt.ylabel('Probability Density')\n",
    "plt.title('Probability Density Function of Salary in Range 700,000 to 900,000')\n",
    "plt.legend()\n",
    "plt.grid(True)\n",
    "plt.show()\n",
    "\n",
    "# Calculate the probability for the range 700,000 to 900,000\n",
    "cdf_lower = norm.cdf(7000, mean_salary, std_salary)\n",
    "cdf_upper = norm.cdf(9000, mean_salary, std_salary)\n",
    "probability = cdf_upper - cdf_lower\n",
    "\n",
    "# Print the probability\n",
    "print(f\"The probability of salary being between 700,000 and 900,000 is: {probability:.5f}\")\n"
   ]
  },
  {
   "cell_type": "code",
   "execution_count": null,
   "id": "3448e41b-16af-4c8f-9272-638e2d50fea1",
   "metadata": {},
   "outputs": [],
   "source": []
  },
  {
   "cell_type": "code",
   "execution_count": null,
   "id": "976f7c98-2877-4dee-b9f2-68e1348af086",
   "metadata": {},
   "outputs": [],
   "source": []
  },
  {
   "cell_type": "code",
   "execution_count": null,
   "id": "5b4831c7-b84f-4e73-ae8d-9751760c05e7",
   "metadata": {},
   "outputs": [],
   "source": [
    "import pandas as pd\n",
    "\n",
    "# Filter non-employed employees\n",
    "non_employed = dataset[dataset['Status'] == 'Inactive']\n",
    "\n",
    "# Summary statistics for non-placed candidates\n",
    "summary_stats = non_employed[['ID', 'Age', 'Salary', 'Performance Score', 'Experience']].describe()\n",
    "\n",
    "# Count of non-employed candidates by Department\n",
    "Department_counts = non_employed['Department'].value_counts()\n",
    "\n",
    "# Count of non-employed candidates by  experience\n",
    "Experience_counts = non_employed['Experience'].value_counts()\n",
    "\n",
    "print(\"Summary statistics for non-employed employees:\")\n",
    "print(summary_stats)\n",
    "\n",
    "print(\"\\nCount of non-placed candidates by Department:\")\n",
    "print(Department_counts)\n",
    "\n",
    "print(\"\\nCount of non-placed candidates by  Experience:\")\n",
    "print(Experience_counts)\n"
   ]
  },
  {
   "cell_type": "code",
   "execution_count": null,
   "id": "2130b18d-e656-4af1-8323-7549c1e0b346",
   "metadata": {},
   "outputs": [],
   "source": []
  },
  {
   "cell_type": "code",
   "execution_count": null,
   "id": "8bfd1fb2-406f-4fd5-b2fe-4c761f64e4d1",
   "metadata": {},
   "outputs": [],
   "source": []
  },
  {
   "cell_type": "code",
   "execution_count": null,
   "id": "d89bc6a6-613f-4d09-9e36-9a640634e940",
   "metadata": {},
   "outputs": [],
   "source": [
    "import seaborn as sns\n",
    "import matplotlib.pyplot as plt\n",
    "\n",
    "# Ensure numerical columns are selected\n",
    "numerical_columns = dataset.select_dtypes(include=['number']).columns\n",
    "\n",
    "# Plot a pairplot for the numerical columns\n",
    "sns.pairplot(dataset[numerical_columns])\n",
    "plt.suptitle('Pairplot of Numerical Columns', y=1.02)\n",
    "plt.show()\n"
   ]
  },
  {
   "cell_type": "code",
   "execution_count": null,
   "id": "3bb6a782-e486-4f7d-846c-8b2b5cce03f7",
   "metadata": {},
   "outputs": [],
   "source": []
  },
  {
   "cell_type": "code",
   "execution_count": null,
   "id": "e381cc83-932f-460c-8444-e4e1bfc63c93",
   "metadata": {},
   "outputs": [],
   "source": []
  },
  {
   "cell_type": "code",
   "execution_count": null,
   "id": "e71e6bfb-b059-4453-9917-6edb3c34e0a0",
   "metadata": {},
   "outputs": [],
   "source": [
    "import seaborn as sns\n",
    "import matplotlib.pyplot as plt\n",
    "\n",
    "# Assuming 'dataset' is your DataFrame\n",
    "quan, qual = quanQual(dataset)\n",
    "\n",
    "# Filter numerical columns for correlation calculation\n",
    "numerical_columns = [col for col in quan if col in ['ID', 'Age', 'Salary', 'Performance Score', 'Experience']]\n",
    "\n",
    "# Create a scatter plot matrix\n",
    "sns.pairplot(dataset[numerical_columns], diag_kind='kde', markers='o')\n",
    "\n",
    "# Show the plot\n",
    "plt.suptitle('Scatter Plot Matrix of Numerical Features', y=1.02)\n",
    "plt.show()\n"
   ]
  },
  {
   "cell_type": "code",
   "execution_count": null,
   "id": "52531e24-252d-4023-bd37-dc7d2b531164",
   "metadata": {},
   "outputs": [],
   "source": []
  },
  {
   "cell_type": "code",
   "execution_count": null,
   "id": "9d2e28b3-94a2-492f-9148-9dca349518ee",
   "metadata": {},
   "outputs": [],
   "source": []
  },
  {
   "cell_type": "code",
   "execution_count": null,
   "id": "bf8baa2a-a1ca-4f60-881e-a83da8080f14",
   "metadata": {},
   "outputs": [],
   "source": []
  },
  {
   "cell_type": "markdown",
   "id": "fd7f9c3e-e85e-448c-a2af-869ea418d844",
   "metadata": {},
   "source": [
    "7. What kind of relation between salary and Department_IT"
   ]
  },
  {
   "cell_type": "code",
   "execution_count": null,
   "id": "c8edaadb",
   "metadata": {},
   "outputs": [],
   "source": [
    "import pandas as pd\n",
    "import seaborn as sns\n",
    "import matplotlib.pyplot as plt\n",
    "\n",
    "# Filter the dataset for non-placed students\n",
    "non_Employed = dataset[dataset['Status'] == 'Inactive']\n",
    "\n",
    "# Statistical summary of key numerical features\n",
    "summary_non_placed = non_Employed[['ID', 'Age', 'Salary', 'Performance Score', 'Experience']].describe()\n",
    "\n",
    "# Compare with placed students\n",
    "employed = dataset[dataset['Status'] == 'Active']\n",
    "summary_placed = employed[['ID', 'Age', 'Salary', 'Performance Score', 'Experience']].describe()\n",
    "\n",
    "# Visualize distributions of key features\n",
    "for column in ['ID', 'Age', 'Salary', 'Performance Score', 'Experience']:\n",
    "    plt.figure(figsize=(10, 6))\n",
    "    sns.kdeplot(employed[column], label='Active', fill=True)\n",
    "    sns.kdeplot(non_Employed[column], label='Inactive', fill=True)\n",
    "    plt.title(f'Distribution of {column} for Active vs. Inactive Employee')\n",
    "    plt.legend()\n",
    "    plt.show()\n",
    "\n",
    "# Analyze categorical features\n",
    "categorical_features = ['Name','Gender','Department','Joining Date','Status','Location','Session']\n",
    "for column in categorical_features:\n",
    "    plt.figure(figsize=(10, 6))\n",
    "    sns.countplot(data=non_Employed, x=column, order=non_Employed[column].value_counts().index)\n",
    "    plt.title(f'Count of {column} in Non-Employed person')\n",
    "    plt.xticks(rotation=45)\n",
    "    plt.show()\n",
    "\n"
   ]
  },
  {
   "cell_type": "code",
   "execution_count": null,
   "id": "07474b91",
   "metadata": {},
   "outputs": [],
   "source": []
  },
  {
   "cell_type": "markdown",
   "id": "f8e09b74-75fc-4283-ba3d-e76254e244f3",
   "metadata": {},
   "source": [
    "Bivariate Analysis"
   ]
  },
  {
   "cell_type": "markdown",
   "id": "5b2d5d7f-23c3-4305-aea2-566f1da1573f",
   "metadata": {},
   "source": [
    "1.How does age vary across different departments?"
   ]
  },
  {
   "cell_type": "code",
   "execution_count": null,
   "id": "b529e21c-d4d2-42db-b4bd-07da81fba03f",
   "metadata": {},
   "outputs": [],
   "source": [
    "plt.figure(figsize=(10, 6))\n",
    "sns.boxplot(x='Department', y='Age', data=dataset, palette='Set2')\n",
    "plt.title('Age Distribution by Department')\n",
    "plt.xlabel('Department')\n",
    "plt.ylabel('Age')\n",
    "plt.grid(True)\n",
    "plt.show()\n"
   ]
  },
  {
   "cell_type": "markdown",
   "id": "24e589ed-c1b5-4f7c-abf8-8d82ac98fc9c",
   "metadata": {},
   "source": [
    "2.What is the relationship between salary and performance score?\n",
    "\n",
    "\n",
    "\n"
   ]
  },
  {
   "cell_type": "code",
   "execution_count": null,
   "id": "52eb5648-45b5-46cd-9a09-1ebf74de3733",
   "metadata": {},
   "outputs": [],
   "source": [
    "plt.figure(figsize=(8, 6))\n",
    "\n",
    "sns.scatterplot(x='Performance Score', y='Salary', data=dataset, hue='Department', palette='coolwarm')\n",
    "plt.title('Salary vs Performance Score')\n",
    "plt.xlabel('Performance Score')\n",
    "plt.ylabel('Salary')\n",
    "plt.show()\n"
   ]
  },
  {
   "cell_type": "markdown",
   "id": "b5226f08-ac94-40e1-9a00-3a062c217477",
   "metadata": {},
   "source": [
    "3.What is the salary trend across different locations?"
   ]
  },
  {
   "cell_type": "code",
   "execution_count": null,
   "id": "4ae40100-ee99-4bec-99b5-ec04ad2e9c70",
   "metadata": {},
   "outputs": [],
   "source": [
    "plt.figure(figsize=(10, 6))\n",
    "#sns.barplot(x='Location', y='Salary', data=dataset, ci=None, palette='viridis')\n",
    "sns.barplot(x='Location', y='Salary', data=dataset, errorbar=None, hue='Location', palette='viridis', legend=False)\n",
    "\n",
    "plt.title('Salary by Location')\n",
    "plt.xlabel('Location')\n",
    "plt.ylabel('Average Salary')\n",
    "plt.xticks(rotation=45)\n",
    "plt.show()\n",
    "\n",
    "\n"
   ]
  },
  {
   "cell_type": "markdown",
   "id": "3097ce8f-af88-471b-a9ed-10ae25761b32",
   "metadata": {},
   "source": [
    "4.How does gender impact performance scores?"
   ]
  },
  {
   "cell_type": "code",
   "execution_count": null,
   "id": "fbb30d38-1668-4aab-81bc-4897d6d893c7",
   "metadata": {},
   "outputs": [],
   "source": [
    "plt.figure(figsize=(8, 6))\n",
    "sns.boxplot(x='Gender', y='Performance Score', data=dataset, palette='pastel',hue = 'Session')\n",
    "plt.title('Performance Score by Gender')\n",
    "plt.xlabel('Gender')\n",
    "plt.ylabel('Performance Score')\n",
    "plt.show()\n"
   ]
  },
  {
   "cell_type": "markdown",
   "id": "1b20d8df-aafe-4baa-861b-493356682fb6",
   "metadata": {},
   "source": [
    "5.What is the relationship between experience and salary?\n",
    "\n"
   ]
  },
  {
   "cell_type": "code",
   "execution_count": null,
   "id": "10513a6f-be8c-4d46-adb9-be28edbf88da",
   "metadata": {},
   "outputs": [],
   "source": [
    "plt.figure(figsize=(8, 6))\n",
    "sns.scatterplot(x='Experience', y='Salary', data=dataset, hue='Gender', palette='coolwarm')\n",
    "plt.title('Experience vs Salary')\n",
    "plt.xlabel('Experience (Years)')\n",
    "plt.ylabel('Salary')\n",
    "plt.grid(True)\n",
    "plt.show()\n"
   ]
  },
  {
   "cell_type": "markdown",
   "id": "323c853e-1afe-4aca-a678-a4fd95b40e1c",
   "metadata": {},
   "source": [
    "6.What is the gender distribution across locations?"
   ]
  },
  {
   "cell_type": "code",
   "execution_count": null,
   "id": "ec6c9259-f28b-41bc-a136-f222b8f3f283",
   "metadata": {},
   "outputs": [],
   "source": [
    "plt.figure(figsize=(10, 6))\n",
    "sns.countplot(x='Location', hue='Gender', data=dataset, palette='Set1')\n",
    "plt.title('Gender Distribution by Location')\n",
    "plt.xlabel('Location')\n",
    "plt.ylabel('Count')\n",
    "plt.xticks(rotation=45)\n",
    "plt.show()\n"
   ]
  },
  {
   "cell_type": "code",
   "execution_count": null,
   "id": "16fe3dd2-b5c4-4e9d-bb76-0391eba3a54d",
   "metadata": {},
   "outputs": [],
   "source": []
  },
  {
   "cell_type": "markdown",
   "id": "18228c02-3c0f-4526-88d3-6d055cca1048",
   "metadata": {},
   "source": [
    "7.What is the status distribution by department?"
   ]
  },
  {
   "cell_type": "code",
   "execution_count": null,
   "id": "6e25cac2-6e28-409a-85af-27843851685e",
   "metadata": {},
   "outputs": [],
   "source": [
    "plt.figure(figsize=(10, 6))\n",
    "sns.countplot(x='Department', hue='Status', data=dataset, palette='Set2')\n",
    "plt.title('Employee Status by Department')\n",
    "plt.xlabel('Department')\n",
    "plt.ylabel('Count')\n",
    "plt.show()\n"
   ]
  },
  {
   "cell_type": "markdown",
   "id": "4eeaa86c-8d5c-421d-9be0-f08f0db6979e",
   "metadata": {},
   "source": [
    "8.How does the performance score vary by session?"
   ]
  },
  {
   "cell_type": "code",
   "execution_count": null,
   "id": "247e6ac7-3acd-45bd-920c-6b587a2bd6b3",
   "metadata": {},
   "outputs": [],
   "source": [
    "plt.figure(figsize=(8, 6))\n",
    "\n",
    "sns.boxplot(x='Session', y='Performance Score', data=dataset, palette='muted')\n",
    "plt.title('Performance Score by Session')\n",
    "plt.xlabel('Session')\n",
    "plt.ylabel('Performance Score')\n",
    "plt.show()\n"
   ]
  },
  {
   "cell_type": "markdown",
   "id": "03506024-79ae-4b83-89fa-d5d46a722d49",
   "metadata": {},
   "source": [
    "9.How does salary vary for active vs inactive employees?"
   ]
  },
  {
   "cell_type": "code",
   "execution_count": null,
   "id": "868e3ce1-ec0b-47ed-b71e-bafbc71b08e8",
   "metadata": {},
   "outputs": [],
   "source": [
    "plt.figure(figsize=(10, 6))\n",
    "sns.boxplot(x='Status', y='Salary', data=dataset, hue='Status', palette='cool', legend=True)\n",
    "plt.title('Salary Distribution by Status')\n",
    "plt.xlabel('Status')\n",
    "plt.ylabel('Salary')\n",
    "plt.xticks(rotation=45)\n",
    "plt.grid(True)\n",
    "plt.show()\n"
   ]
  },
  {
   "cell_type": "code",
   "execution_count": null,
   "id": "ac497b31-ad84-40c8-b56d-1c1fc6f7da8d",
   "metadata": {},
   "outputs": [],
   "source": [
    "plt.figure(figsize=(8, 6))\n",
    "sns.boxplot(x='Status', y='Salary', data=dataset, palette='cool')\n",
    "plt.title('Salary Distribution by Status')\n",
    "plt.xlabel('Status')\n",
    "plt.ylabel('Salary')\n",
    "plt.grid(True)\n",
    "plt.show()\n"
   ]
  },
  {
   "cell_type": "markdown",
   "id": "27db6240-24d6-41c8-a197-83007c99ecf6",
   "metadata": {},
   "source": [
    "10.What is the performance score distribution across different joining years?\n",
    "\n",
    "\n"
   ]
  },
  {
   "cell_type": "code",
   "execution_count": null,
   "id": "626d8a10-c111-46de-aa0c-0f74a52a225b",
   "metadata": {},
   "outputs": [],
   "source": [
    "plt.figure(figsize=(10, 6))\n",
    "\n",
    "# Define custom colors for the boxplot\n",
    "custom_palette = sns.color_palette(\"cubehelix\", len(dataset['Joining Year'].unique()))\n",
    "#sns.boxplot(x='Joining Year', y='Performance Score', data=dataset, palette=custom_palette)\n",
    "sns.boxplot(x='Joining Year', y='Performance Score', data=dataset, hue='Joining Year', palette=custom_palette, legend=False)\n",
    "\n",
    "\n",
    "plt.title('Performance Score by Joining Year')\n",
    "plt.xlabel('Joining Year')\n",
    "plt.ylabel('Performance Score')\n",
    "plt.xticks(rotation=45)\n",
    "plt.grid(True)\n",
    "plt.show()\n"
   ]
  },
  {
   "cell_type": "code",
   "execution_count": null,
   "id": "1adf345f-75fb-4eea-bee2-0547b33e9848",
   "metadata": {},
   "outputs": [],
   "source": [
    "11.Find the maximum Performance Score for employees in each Location.?"
   ]
  },
  {
   "cell_type": "code",
   "execution_count": null,
   "id": "9cbc36c8-761d-4b9c-b925-648c8f01f759",
   "metadata": {},
   "outputs": [],
   "source": [
    "# Find the maximum Performance Score for each Location\n",
    "max_performance_scores = dataset.groupby('Location')['Performance Score'].max()\n",
    "\n",
    "# Display the result\n",
    "print(max_performance_scores)\n"
   ]
  },
  {
   "cell_type": "code",
   "execution_count": null,
   "id": "53d2d986-15d4-44cf-97d9-9d84f4821c25",
   "metadata": {},
   "outputs": [],
   "source": [
    "# Bar chart of maximum Performance Scores by Location\n",
    "plt.figure(figsize=(8, 6))\n",
    "max_performance_scores.plot(kind='bar', color='skyblue')\n",
    "plt.title('Maximum Performance Score for Each Location')\n",
    "plt.xlabel('Location')\n",
    "plt.ylabel('Maximum Performance Score')\n",
    "plt.xticks(rotation=45)\n",
    "plt.grid(axis='y')\n",
    "plt.show()\n"
   ]
  },
  {
   "cell_type": "markdown",
   "id": "12717ec6-9042-4d8c-8d22-ac87e2caf7d1",
   "metadata": {},
   "source": [
    "1.Is there a relationship between Performance Score and Experience\t  results?"
   ]
  },
  {
   "cell_type": "markdown",
   "id": "a0d01156-a97d-41f4-9a87-c3726b584d1e",
   "metadata": {},
   "source": [
    "2.Is there a correlation between  Age\t and the need for Salary ?"
   ]
  },
  {
   "cell_type": "code",
   "execution_count": null,
   "id": "35467cd0-6b32-43d2-b7d6-d38327d9a15c",
   "metadata": {},
   "outputs": [],
   "source": [
    "# Convert 'Charge Needed' column to numerical values\n",
    "dataset['Salary'] = dataset['Salary']\n",
    "\n",
    "# Now compute the correlation coefficient\n",
    "correlation = dataset['Experience'].corr(dataset['Salary'])\n",
    "\n",
    "print(\"Pearson Correlation Coefficient:\", correlation)\n"
   ]
  },
  {
   "cell_type": "markdown",
   "id": "922c203c-22d4-4909-912e-1edfd787531a",
   "metadata": {},
   "source": [
    "6.How does the distribution of  status vary concerning location\t ?"
   ]
  },
  {
   "cell_type": "code",
   "execution_count": null,
   "id": "36948472-90ae-4378-a378-ef7f9e1d2553",
   "metadata": {},
   "outputs": [],
   "source": [
    "# Create a contingency table\n",
    "contingency_table = pd.crosstab( dataset['Status'],dataset['Location'],)\n",
    "\n",
    "# Plot stacked bar plot\n",
    "contingency_table.plot(kind='bar', stacked=True)\n",
    "plt.xlabel('Location')\n",
    "plt.ylabel('Count')\n",
    "plt.title('Distribution of  Status by Location')\n",
    "plt.legend(title='Employee Status')\n",
    "plt.xticks(rotation=45)\n",
    "plt.show()"
   ]
  },
  {
   "cell_type": "code",
   "execution_count": null,
   "id": "ab446990-f36f-4a3a-82ef-69dbc495856c",
   "metadata": {},
   "outputs": [],
   "source": [
    "# Create a contingency table\n",
    "contingency_table = pd.crosstab(dataset['Performance Score'], dataset['Status'])\n",
    "\n",
    "# Plot stacked bar plot\n",
    "contingency_table.plot(kind='bar', stacked=True)\n",
    "plt.xlabel('Performance Score')\n",
    "plt.ylabel('Count')\n",
    "plt.title('Distribution of  Status by Performance Score')\n",
    "plt.legend(title='Employee Status based on Performance Score')\n",
    "plt.xticks(rotation=45)\n",
    "plt.show()"
   ]
  },
  {
   "cell_type": "code",
   "execution_count": null,
   "id": "40814ca2-8f6a-493b-b875-cc7cdd648e39",
   "metadata": {},
   "outputs": [],
   "source": [
    "sns.jointplot(x ='Experience',y = 'Salary',data = dataset,kind='hex')\n",
    "plt.show()"
   ]
  },
  {
   "cell_type": "code",
   "execution_count": null,
   "id": "e707fa97-28e9-4082-8fe4-f2a78fd0b309",
   "metadata": {},
   "outputs": [],
   "source": [
    "sns.boxplot(x = \"Department\", y = \"Performance Score\", data = dataset,hue=\"Location\" )\n",
    "plt.show()"
   ]
  },
  {
   "cell_type": "markdown",
   "id": "e590daf1-c0dc-428b-b029-8c1e00ab9983",
   "metadata": {},
   "source": [
    "6.How does the distribution of  status vary concerning Department\t?"
   ]
  },
  {
   "cell_type": "code",
   "execution_count": null,
   "id": "10100f36-3750-437c-b67e-4e7707894054",
   "metadata": {},
   "outputs": [],
   "source": [
    "# Create a contingency table\n",
    "contingency_table = pd.crosstab(dataset['Department'], dataset['Status'])\n",
    "\n",
    "# Plot stacked bar plot\n",
    "contingency_table.plot(kind='bar', stacked=True)\n",
    "plt.xlabel('Department')\n",
    "plt.ylabel('Count')\n",
    "plt.title('Distribution of  Status by Salary')\n",
    "plt.legend(title='Employee Status')\n",
    "plt.xticks(rotation=45)\n",
    "plt.show()"
   ]
  },
  {
   "cell_type": "code",
   "execution_count": null,
   "id": "10f337ba-db25-4623-af31-d74c9c1b459d",
   "metadata": {},
   "outputs": [],
   "source": []
  },
  {
   "cell_type": "code",
   "execution_count": null,
   "id": "22236d0b-4e85-4f04-bce2-506c4622503b",
   "metadata": {},
   "outputs": [],
   "source": []
  },
  {
   "cell_type": "code",
   "execution_count": null,
   "id": "29abf91d-826e-4956-bed4-f93d8d72d410",
   "metadata": {},
   "outputs": [],
   "source": [
    "# Label encoding of the 'Department' column\n",
    "dataset['Department_encoded'] = dataset['Department'].astype('category').cat.codes\n",
    "\n",
    "# Calculate the Pearson correlation coefficient between Salary and Department (now encoded)\n",
    "correlation = dataset['Salary'].corr(dataset['Department_encoded'])\n",
    "print(f'Correlation between salary and Department: {correlation:.4f}')\n"
   ]
  },
  {
   "cell_type": "code",
   "execution_count": null,
   "id": "bdb2fcdd-7e36-40c6-a12c-ccec99041616",
   "metadata": {},
   "outputs": [],
   "source": [
    "# One-hot encoding of the 'Department' column\n",
    "dataset_encoded = pd.get_dummies(dataset, columns=['Department'], drop_first=True)\n",
    "\n",
    "# Calculate correlation with one-hot encoded department columns\n",
    "correlation = dataset_encoded['Salary'].corr(dataset_encoded['Department_Sales'])  # Example for 'Sales'\n",
    "print(f'Correlation between salary and Sales department: {correlation:.4f}')\n"
   ]
  },
  {
   "cell_type": "code",
   "execution_count": null,
   "id": "c9e84271-938a-4706-991d-ee93922aac84",
   "metadata": {},
   "outputs": [],
   "source": [
    "which parameter is highly correlated with salary?"
   ]
  },
  {
   "cell_type": "code",
   "execution_count": null,
   "id": "e4b5a663-eebb-4966-ba2e-fc17b9000c89",
   "metadata": {},
   "outputs": [],
   "source": [
    "import pandas as pd\n",
    "\n",
    "# Assuming 'dataset' is your DataFrame\n",
    "quan, qual = quanQual(dataset)\n",
    "\n",
    "# Filter numerical columns for correlation calculation\n",
    "numerical_columns = [col for col in quan if col in ['ID', 'Age', 'Salary', 'Performance Score', 'Experience']]\n",
    "\n",
    "# Calculate the correlation matrix for the numerical values\n",
    "correlation_matrix = dataset[numerical_columns].corr()\n",
    "\n",
    "# Extract the correlation values with 'salary', excluding 'salary' itself\n",
    "salary_correlation = correlation_matrix['Salary'].drop('Salary')\n",
    "\n",
    "# Find the parameter with the highest correlation with salary\n",
    "most_correlated_parameter = salary_correlation.idxmax()\n",
    "highest_correlation_value = salary_correlation.max()\n",
    "\n",
    "# Print the results\n",
    "print(f\"The parameter most highly correlated with salary is: {most_correlated_parameter}\")\n",
    "print(f\"The correlation coefficient is: {highest_correlation_value:.4f}\")\n",
    "\n"
   ]
  },
  {
   "cell_type": "code",
   "execution_count": null,
   "id": "39327ba4-b978-4003-856e-71e214acc8b9",
   "metadata": {},
   "outputs": [],
   "source": []
  },
  {
   "cell_type": "code",
   "execution_count": null,
   "id": "0c5c73f0-c1ed-4184-9ab1-e7786e0c94d5",
   "metadata": {},
   "outputs": [],
   "source": [
    "\n",
    "import pandas as pd\n",
    "import seaborn as sns\n",
    "import matplotlib.pyplot as plt\n",
    "\n",
    "# Assuming 'dataset' is your DataFrame\n",
    "quan, qual = quanQual(dataset)\n",
    "\n",
    "# Filter numerical columns for correlation calculation\n",
    "numerical_columns = [col for col in quan if col in ['ID', 'Age', 'Salary', 'Performance Score', 'Experience']]\n",
    "\n",
    "# Calculate the correlation matrix for the numerical values\n",
    "correlation_matrix = dataset[numerical_columns].corr()\n",
    "\n",
    "# Plotting the heatmap\n",
    "plt.figure(figsize=(10, 8))\n",
    "sns.heatmap(correlation_matrix, annot=True, cmap='coolwarm', fmt=\".2f\",vmin=-1, vmax=1)\n",
    "plt.title('Correlation Matrix Heatmap')\n",
    "plt.show()\n",
    "\n",
    "\n"
   ]
  },
  {
   "cell_type": "code",
   "execution_count": null,
   "id": "020cdc64-1c91-4a13-8255-a5a82d2e80ed",
   "metadata": {},
   "outputs": [],
   "source": [
    "sns.pairplot(dataset)"
   ]
  },
  {
   "cell_type": "code",
   "execution_count": null,
   "id": "9a01e59a-6c1d-425b-bc03-f422e82b3925",
   "metadata": {},
   "outputs": [],
   "source": [
    "from statsmodels.stats.outliers_influence import variance_inflation_factor\n",
    "\n",
    "def calc_vif(X):\n",
    "\n",
    "    # Calculating VIF\n",
    "    vif = pd.DataFrame()\n",
    "    vif[\"variables\"] = X.columns\n",
    "    vif[\"VIF\"] = [variance_inflation_factor(X.values, i) for i in range(X.shape[1])]\n",
    "\n",
    "    return(vif)"
   ]
  },
  {
   "cell_type": "code",
   "execution_count": null,
   "id": "806e266b-a0ca-43ed-b81c-4252c8d3dfa6",
   "metadata": {},
   "outputs": [],
   "source": [
    "calc_vif(dataset[quan])"
   ]
  },
  {
   "cell_type": "code",
   "execution_count": null,
   "id": "76c6f77a-7372-4c15-bdeb-6bacca41f12f",
   "metadata": {},
   "outputs": [],
   "source": []
  },
  {
   "cell_type": "code",
   "execution_count": null,
   "id": "51796415-02fe-4d3c-9cde-8bc7397671b4",
   "metadata": {},
   "outputs": [],
   "source": [
    "calc_vif(dataset[[\"ID\",\"Age\",\"Salary\",\"Performance Score\",\"Experience\"]])"
   ]
  },
  {
   "cell_type": "code",
   "execution_count": null,
   "id": "b7ae3c23-77c1-433c-98a1-bd1b8c92718b",
   "metadata": {},
   "outputs": [],
   "source": [
    "calc_vif(dataset[[\"ID\",\"Salary\",\"Performance Score\",\"Experience\"]])"
   ]
  },
  {
   "cell_type": "code",
   "execution_count": null,
   "id": "96132949-6fb7-4780-9013-3605d1191ad5",
   "metadata": {},
   "outputs": [],
   "source": [
    "calc_vif(dataset[[\"Salary\",\"Performance Score\",\"Experience\"]])"
   ]
  },
  {
   "cell_type": "code",
   "execution_count": null,
   "id": "12e38709-503b-4305-9fa8-b1157d61682b",
   "metadata": {},
   "outputs": [],
   "source": [
    "calc_vif(dataset[[\"Experience\",\"Performance Score\"]])"
   ]
  },
  {
   "cell_type": "code",
   "execution_count": null,
   "id": "8166f261-3406-4c86-a5bb-5672e8a66936",
   "metadata": {},
   "outputs": [],
   "source": [
    "calc_vif(dataset[[\"Experience\",\"Salary\"]])"
   ]
  },
  {
   "cell_type": "markdown",
   "id": "23303409-a524-4b58-b0a1-01550c9e2aaa",
   "metadata": {},
   "source": [
    "InDependent sample - unpaired T test\n",
    "\n",
    "Different Group('M','F') but same condition (Salary)"
   ]
  },
  {
   "cell_type": "code",
   "execution_count": null,
   "id": "c33b1546-45ea-49af-a0d1-812a678e4d99",
   "metadata": {},
   "outputs": [],
   "source": [
    "from scipy.stats import ttest_ind\n",
    "dataset= dataset.dropna()\n",
    "male= dataset[dataset['Gender']=='Male']['Salary']\n",
    "female=dataset[dataset['Gender']=='Female']['Salary']\n",
    "\n",
    "#print(male)\n",
    "ttest_ind(male,female)"
   ]
  },
  {
   "cell_type": "code",
   "execution_count": null,
   "id": "709e120a-c404-4d09-a87d-d97aac7aba85",
   "metadata": {},
   "outputs": [],
   "source": [
    "dataset[dataset['Gender']=='Male']['Salary']"
   ]
  },
  {
   "cell_type": "code",
   "execution_count": null,
   "id": "13066147-cb89-40a1-b81f-6c7528df7874",
   "metadata": {},
   "outputs": [],
   "source": [
    "dataset[dataset['Gender']=='Female']['Salary']"
   ]
  },
  {
   "cell_type": "code",
   "execution_count": null,
   "id": "3f235d70-e969-4764-99e5-70f767c5ce84",
   "metadata": {},
   "outputs": [],
   "source": [
    "# 1. Salary by Department\n",
    "plt.figure(figsize=(8, 6))\n",
    "sns.boxplot(x='Department', y='Salary', data=dataset, palette='coolwarm')\n",
    "plt.title('Salary by Department')\n",
    "plt.xlabel('Department')\n",
    "plt.ylabel('Salary')\n",
    "plt.xticks(rotation=45)\n",
    "plt.show()\n",
    "\n",
    "# 2. Performance Score by Gender\n",
    "plt.figure(figsize=(8, 6))\n",
    "sns.barplot(x='Gender', y='Performance Score', data=dataset, ci=None, palette='viridis')\n",
    "plt.title('Average Performance Score by Gender')\n",
    "plt.xlabel('Gender')\n",
    "plt.ylabel('Performance Score')\n",
    "plt.show()\n",
    "\n",
    "# 3. Age by Location\n",
    "plt.figure(figsize=(8, 6))\n",
    "sns.boxplot(x='Location', y='Age', data=dataset, palette='Set2')\n",
    "plt.title('Age Distribution by Location')\n",
    "plt.xlabel('Location')\n",
    "plt.ylabel('Age')\n",
    "plt.xticks(rotation=45)\n",
    "plt.show()\n",
    "\n",
    "# 4. Experience vs Salary\n",
    "plt.figure(figsize=(8, 6))\n",
    "sns.scatterplot(x='Experience', y='Salary', data=dataset, hue='Gender', palette='deep')\n",
    "plt.title('Experience vs Salary')\n",
    "plt.xlabel('Experience (Years)')\n",
    "plt.ylabel('Salary')\n",
    "plt.grid(True)\n",
    "plt.show()\n",
    "\n",
    "# 5. Performance Score by Status\n",
    "plt.figure(figsize=(8, 6))\n",
    "sns.boxplot(x='Status', y='Performance Score', data=dataset, palette='pastel')\n",
    "plt.title('Performance Score by Employee Status')\n",
    "plt.xlabel('Status')\n",
    "plt.ylabel('Performance Score')\n",
    "plt.show()\n"
   ]
  },
  {
   "cell_type": "code",
   "execution_count": null,
   "id": "deb79a90-b29b-4e15-a5e7-b921555a9253",
   "metadata": {},
   "outputs": [],
   "source": [
    "# 1. Relationship between age and salary\n",
    "plt.figure(figsize=(8, 6))\n",
    "sns.scatterplot(x='Age', y='Salary', data=dataset, hue='Gender', palette='cool', alpha=0.7)\n",
    "plt.title('Age vs Salary')\n",
    "plt.xlabel('Age')\n",
    "plt.ylabel('Salary')\n",
    "plt.grid(True)\n",
    "plt.show()\n",
    "\n",
    "# 2. Performance Score by department\n",
    "plt.figure(figsize=(8, 6))\n",
    "sns.boxplot(x='Performance Score', y='Department', data=dataset, palette='viridis')\n",
    "plt.title('Performance Score by Department')\n",
    "plt.xlabel('Performance Score')\n",
    "plt.ylabel('Department')\n",
    "plt.show()\n",
    "\n",
    "# 3. Salary by location\n",
    "plt.figure(figsize=(8, 6))\n",
    "sns.boxplot(x='Salary', y='Location', data=dataset, palette='muted')\n",
    "plt.title('Salary Distribution by Location')\n",
    "plt.xlabel('Salary')\n",
    "plt.ylabel('Location')\n",
    "plt.show()\n",
    "\n",
    "# 4. Performance Score by gender\n",
    "plt.figure(figsize=(8, 6))\n",
    "sns.violinplot(x='Gender', y='Performance Score', data=dataset, palette='pastel')\n",
    "plt.title('Performance Score by Gender')\n",
    "plt.xlabel('Gender')\n",
    "plt.ylabel('Performance Score')\n",
    "plt.grid(True)\n",
    "plt.show()\n",
    "\n",
    "# 5. Experience vs Salary\n",
    "plt.figure(figsize=(8, 6))\n",
    "sns.scatterplot(x='Experience', y='Salary', data=dataset, hue='Status', palette='coolwarm', alpha=0.7)\n",
    "plt.title('Experience vs Salary')\n",
    "plt.xlabel('Experience (Years)')\n",
    "plt.ylabel('Salary')\n",
    "plt.show()\n",
    "\n",
    "# 6. Performance Score by status\n",
    "plt.figure(figsize=(8, 6))\n",
    "sns.barplot(x='Status', y='Performance Score', data=dataset, ci=None, palette='cool')\n",
    "plt.title('Performance Score by Status')\n",
    "plt.xlabel('Status')\n",
    "plt.ylabel('Performance Score')\n",
    "plt.show()\n",
    "\n",
    "# 7. Age vs Performance Score\n",
    "plt.figure(figsize=(8, 6))\n",
    "sns.scatterplot(x='Age', y='Performance Score', data=dataset, alpha=0.7, color='orange')\n",
    "plt.title('Age vs Performance Score')\n",
    "plt.xlabel('Age')\n",
    "plt.ylabel('Performance Score')\n",
    "plt.show()\n",
    "\n",
    "# 8. Average salary by department\n",
    "plt.figure(figsize=(8, 6))\n",
    "sns.barplot(x='Department', y='Salary', data=dataset, ci=None, palette='viridis')\n",
    "plt.title('Average Salary by Department')\n",
    "plt.xlabel('Department')\n",
    "plt.ylabel('Average Salary')\n",
    "plt.xticks(rotation=45)\n",
    "plt.show()\n",
    "\n",
    "# 9. Performance Score by session\n",
    "plt.figure(figsize=(8, 6))\n",
    "sns.boxplot(x='Session', y='Performance Score', data=dataset, palette='pastel')\n",
    "plt.title('Performance Score by Session')\n",
    "plt.xlabel('Session')\n",
    "plt.ylabel('Performance Score')\n",
    "plt.show()\n",
    "\n",
    "# 10. Joining year vs experience\n",
    "plt.figure(figsize=(8, 6))\n",
    "sns.scatterplot(x='Joining Year', y='Experience', data=dataset, alpha=0.7, color='purple')\n",
    "plt.title('Joining Year vs Experience')\n",
    "plt.xlabel('Joining Year')\n",
    "plt.ylabel('Experience (Years)')\n",
    "plt.grid(True)\n",
    "plt.show()\n"
   ]
  },
  {
   "cell_type": "code",
   "execution_count": null,
   "id": "ed47254e-d3ab-4fb3-8416-f4818f85c460",
   "metadata": {},
   "outputs": [],
   "source": []
  }
 ],
 "metadata": {
  "kernelspec": {
   "display_name": "Python 3 (ipykernel)",
   "language": "python",
   "name": "python3"
  },
  "language_info": {
   "codemirror_mode": {
    "name": "ipython",
    "version": 3
   },
   "file_extension": ".py",
   "mimetype": "text/x-python",
   "name": "python",
   "nbconvert_exporter": "python",
   "pygments_lexer": "ipython3",
   "version": "3.12.7"
  }
 },
 "nbformat": 4,
 "nbformat_minor": 5
}
